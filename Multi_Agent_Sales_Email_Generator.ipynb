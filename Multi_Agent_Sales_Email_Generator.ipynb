{
  "cells": [
    {
      "cell_type": "markdown",
      "source": [
        "# 💼 Multi-Agent Sales Email Generator using OpenAI Agentic Framework\n",
        "\n",
        "This project uses the **OpenAI Agents SDK** to build a multi-agent, tool-using system that generates, formats, and sends sales emails.\n",
        "\n",
        "### 🔍 What This Project Showcases:\n",
        "- **Multi-Agent Architecture**: Agents for writing in different tones (professional, witty, concise)\n",
        "- **Tool Wrapping**: Agents are exposed as tools to higher-level agents\n",
        "- **Structured Output**: Emails are returned in a validated `EmailOutput` format\n",
        "- **Guardrails**: Input and output are validated with custom guardrail agents\n",
        "- **Email Delivery**: Messages are sent via the SendGrid API\n",
        "- **Gradio UI**: A simple frontend lets users input instructions and a recipient, then view the generated result\n",
        "\n",
        "### 🛠 Technologies Used:\n",
        "- OpenAI SDK + Agents\n",
        "- Gradio for UI\n",
        "- SendGrid for email sending\n",
        "- Python + Pydantic for structure enforcement\n",
        "- Google Colab for development\n"
      ],
      "metadata": {
        "id": "xUdUrzbsijKK"
      }
    },
    {
      "cell_type": "markdown",
      "source": [
        "### 🛠️ Install Required Packages for Agentic Email App\n"
      ],
      "metadata": {
        "id": "RvguQu4WeVOI"
      }
    },
    {
      "cell_type": "code",
      "source": [
        "!pip install \\\n",
        "  openai==1.91.0 \\\n",
        "  sendgrid==6.12.4 \\\n",
        "  gradio==5.34.2 \\\n",
        "  pydantic==2.11.7 \\\n",
        "  openai-agents==0.0.19"
      ],
      "metadata": {
        "id": "MaWecQvW5k80"
      },
      "execution_count": null,
      "outputs": []
    },
    {
      "cell_type": "markdown",
      "source": [
        "### 📦 Import Core Libraries and Agentic Framework Components\n"
      ],
      "metadata": {
        "id": "wfJTME9weqtF"
      }
    },
    {
      "cell_type": "code",
      "execution_count": null,
      "metadata": {
        "id": "T6ZI-GNa4Ugq"
      },
      "outputs": [],
      "source": [
        "from openai import AsyncOpenAI\n",
        "from agents import Agent, Runner, trace, function_tool, OpenAIChatCompletionsModel, input_guardrail,output_guardrail, GuardrailFunctionOutput\n",
        "from typing import Dict\n",
        "import sendgrid\n",
        "import os\n",
        "from sendgrid.helpers.mail import Mail, Email, To, Content\n",
        "from pydantic import BaseModel\n",
        "from google.colab import userdata\n",
        "import asyncio\n",
        "import gradio as gr"
      ]
    },
    {
      "cell_type": "markdown",
      "source": [
        "### 🔐 Load and Verify API Keys from Colab Secrets\n",
        "\n",
        "To use models and services in this project, you need API keys from the following providers. Once you register and obtain them, add them securely to your Colab session using the `colab_secrets`.\n",
        "\n",
        "- 🔑 **OpenAI**: [platform.openai.com/account/api-keys](https://platform.openai.com/account/api-keys)\n",
        "- 🔑 **Google (Gemini)**: [console.cloud.google.com](https://console.cloud.google.com) → Enable **Generative Language API**\n",
        "- 🔑 **DeepSeek**: [deepseek.com](https://deepseek.com) → Developer Portal\n",
        "- 🔑 **Groq**: [console.groq.com](https://console.groq.com) → Create API Key under your account\n",
        "- 🔑 **Anthropic**: [console.anthropic.com](https://console.anthropic.com) → API Keys tab\n",
        "- ✉️ **SendGrid**: [app.sendgrid.com/settings/api_keys](https://app.sendgrid.com/settings/api_keys) → Create \"Full Access\" key to send emails\n",
        "\n",
        "Paste each key into the Colab \"Secrets\" UI to access them securely.\n"
      ],
      "metadata": {
        "id": "cPaVOmKre7kE"
      }
    },
    {
      "cell_type": "code",
      "execution_count": null,
      "metadata": {
        "id": "yycC-tKI4Ugs"
      },
      "outputs": [],
      "source": [
        "openai_api_key = os.environ[\"OPENAI_API_KEY\"] = userdata.get(\"OPENAI_API_KEY\")\n",
        "google_api_key = userdata.get(\"GOOGLE_API_KEY\")\n",
        "deepseek_api_key = userdata.get(\"DEEPSEEK_API_KEY\")\n",
        "groq_api_key = userdata.get(\"GROQ_API_KEY\")\n",
        "anthropic_api_key = userdata.get(\"ANTHROPIC_API_KEY\")\n",
        "sendgrid_api_key = userdata.get(\"SENDGRID_API_KEY\")\n",
        "\n",
        "if openai_api_key:\n",
        "    print(f\"OpenAI API Key exists and begins {openai_api_key[:8]}\")\n",
        "else:\n",
        "    print(\"OpenAI API Key not set\")\n",
        "\n",
        "if google_api_key:\n",
        "    print(f\"Google API Key exists and begins {google_api_key[:2]}\")\n",
        "else:\n",
        "    print(\"Google API Key not set (and this is optional)\")\n",
        "\n",
        "if deepseek_api_key:\n",
        "    print(f\"DeepSeek API Key exists and begins {deepseek_api_key[:3]}\")\n",
        "else:\n",
        "    print(\"DeepSeek API Key not set (and this is optional)\")\n",
        "\n",
        "if groq_api_key:\n",
        "    print(f\"Groq API Key exists and begins {groq_api_key[:4]}\")\n",
        "else:\n",
        "    print(\"Groq API Key not set (and this is optional)\")\n",
        "\n",
        "if sendgrid_api_key:\n",
        "    print(f\"Sendgrid API Key exists\")\n",
        "else:\n",
        "    print(\"Sendgrid API Key not set\")"
      ]
    },
    {
      "cell_type": "markdown",
      "source": [
        "### 🤖 Agent Instructions for Sales Email Generation (Professional, Witty, and Concise Styles)\n"
      ],
      "metadata": {
        "id": "S3jFOcFNf1gN"
      }
    },
    {
      "cell_type": "code",
      "execution_count": null,
      "metadata": {
        "id": "fV06N6Jv4Ugs"
      },
      "outputs": [],
      "source": [
        "instructions1 = \"\"\"\n",
        "You are a sales agent working for ComplAI, a company that provides a SaaS tool for ensuring SOC2 compliance and preparing for audits, powered by AI.\n",
        "You write professional, serious cold emails.\n",
        "\n",
        "If not explicitly provided, assume:\n",
        "- Sender name is \"Alice\"\n",
        "- Signoff is \"Best regards\"\n",
        "- The company is \"ComplAI\"\n",
        "- The recipient is a CEO\n",
        "\"\"\"\n",
        "\n",
        "instructions2 = \"\"\"You are a humorous, engaging sales agent working for ComplAI, \\\n",
        "a company that provides a SaaS tool for ensuring SOC2 compliance and preparing for audits, powered by AI. \\\n",
        "You write witty, engaging cold emails that are likely to get a response.\n",
        "\n",
        "Your output should be a structured object with the following fields:\n",
        "- body: the main email content (addressed to 'Dear CEO')\n",
        "- signoff: the signoff line (e.g., 'Best regards')\n",
        "- sender_name: the name of the person sending the email (e.g., 'Alice')\n",
        "Return only this structured output.\n",
        "\n",
        "If not explicitly provided, assume:\n",
        "- Sender name is \"Alice\"\n",
        "- Signoff is \"Best regards\"\n",
        "- The company is \"ComplAI\"\n",
        "- The recipient is a CEO\n",
        "\"\"\"\n",
        "\n",
        "instructions3 = \"\"\"You are a busy sales agent working for ComplAI, \\\n",
        "a company that provides a SaaS tool for ensuring SOC2 compliance and preparing for audits, powered by AI. \\\n",
        "You write concise, to the point cold emails.\n",
        "\n",
        "If not explicitly provided, assume:\n",
        "- Sender name is \"Alice\"\n",
        "- Signoff is \"Best regards\"\n",
        "- The company is \"ComplAI\"\n",
        "- The recipient is a CEO\"\"\""
      ]
    },
    {
      "cell_type": "markdown",
      "metadata": {
        "id": "G1O2m9fI4Ugt"
      },
      "source": [
        "### 🔌 Configure External LLM Clients and Models (Gemini, DeepSeek, Groq)\n",
        "\n",
        "These base URLs and model clients allow you to connect with OpenAI-compatible LLM endpoints from third-party providers using the OpenAI Agents SDK. Each client is initialized with its respective API key and wrapped into an `OpenAIChatCompletionsModel` for agent use.\n"
      ]
    },
    {
      "cell_type": "code",
      "execution_count": null,
      "metadata": {
        "id": "kdWhoCtd4Ugt"
      },
      "outputs": [],
      "source": [
        "GEMINI_BASE_URL = \"https://generativelanguage.googleapis.com/v1beta/openai/\"\n",
        "DEEPSEEK_BASE_URL = \"https://api.deepseek.com/v1\"\n",
        "GROQ_BASE_URL = \"https://api.groq.com/openai/v1\"\n",
        "\n",
        "deepseek_client = AsyncOpenAI(base_url=DEEPSEEK_BASE_URL, api_key=deepseek_api_key)\n",
        "gemini_client = AsyncOpenAI(base_url=GEMINI_BASE_URL, api_key=google_api_key)\n",
        "groq_client = AsyncOpenAI(base_url=GROQ_BASE_URL, api_key=groq_api_key)\n",
        "\n",
        "deepseek_model = OpenAIChatCompletionsModel(model=\"deepseek-chat\", openai_client=deepseek_client)\n",
        "gemini_model = OpenAIChatCompletionsModel(model=\"gemini-2.0-flash\", openai_client=gemini_client)\n",
        "llama3_3_model = OpenAIChatCompletionsModel(model=\"llama-3.3-70b-versatile\", openai_client=groq_client)"
      ]
    },
    {
      "cell_type": "markdown",
      "source": [
        "### 📤 Define Structured Output Schema for Sales Emails\n"
      ],
      "metadata": {
        "id": "O6BsIeuVgPeJ"
      }
    },
    {
      "cell_type": "code",
      "execution_count": null,
      "metadata": {
        "id": "nNZNzxuR4Ugt"
      },
      "outputs": [],
      "source": [
        "class EmailOutput(BaseModel):\n",
        "    body: str\n",
        "    signoff: str\n",
        "    sender_name: str"
      ]
    },
    {
      "cell_type": "markdown",
      "source": [
        "### 🤖 Define Sales Agents with Distinct Personalities and Models\n"
      ],
      "metadata": {
        "id": "6Tx_otrggVXk"
      }
    },
    {
      "cell_type": "code",
      "execution_count": null,
      "metadata": {
        "id": "Hc5EYfal4Ugt"
      },
      "outputs": [],
      "source": [
        "sales_agent1 = Agent(name=\"DeepSeek Sales Agent\", instructions=instructions1, model=deepseek_model)\n",
        "sales_agent2 =  Agent(name=\"Gemini Sales Agent\", instructions=instructions2, model=gemini_model, output_type=EmailOutput)\n",
        "sales_agent3  = Agent(name=\"Llama3.3 Sales Agent\",instructions=instructions3,model=llama3_3_model)"
      ]
    },
    {
      "cell_type": "markdown",
      "source": [
        "### 🛠️ Convert Sales Agents into Callable Tools for Email Generation\n"
      ],
      "metadata": {
        "id": "hEzEOFsigjSe"
      }
    },
    {
      "cell_type": "code",
      "execution_count": null,
      "metadata": {
        "id": "-NkXdodR4Ugt"
      },
      "outputs": [],
      "source": [
        "description = \"Write a cold sales email\"\n",
        "\n",
        "tool1 = sales_agent1.as_tool(tool_name=\"sales_agent1\", tool_description=description)\n",
        "tool2 = sales_agent2.as_tool(tool_name=\"sales_agent2\", tool_description=description)\n",
        "tool3 = sales_agent3.as_tool(tool_name=\"sales_agent3\", tool_description=description)"
      ]
    },
    {
      "cell_type": "markdown",
      "source": [
        "### 📧 Define SendGrid Tool to Send HTML Emails\n",
        "\n",
        "This tool wraps the SendGrid API for sending emails with a subject, recipient, and HTML-formatted body.  \n",
        "**🔐 Note:** Replace `\"you@example.com\"` with your **verified sender email** in your SendGrid account to enable successful delivery.\n"
      ],
      "metadata": {
        "id": "2dU7NkDsg1Wr"
      }
    },
    {
      "cell_type": "code",
      "execution_count": null,
      "metadata": {
        "id": "BtAydJRz4Ugu"
      },
      "outputs": [],
      "source": [
        "@function_tool\n",
        "def send_html_email(subject: str, html_body: str, recipient_email: str) -> Dict[str, str]:\n",
        "    \"\"\" Send out an email with the given subject and HTML body to all sales prospects \"\"\"\n",
        "    sg = sendgrid.SendGridAPIClient(api_key=sendgrid_api_key)\n",
        "    from_email = Email(\"you@example.com\") # change it to your email\n",
        "    to_email = To(recipient_email)\n",
        "    content = Content(\"text/html\", html_body)\n",
        "    mail = Mail(from_email, to_email, subject, content).get()\n",
        "    response = sg.client.mail.send.post(request_body=mail)\n",
        "    return {\"status\": \"success\"}"
      ]
    },
    {
      "cell_type": "markdown",
      "source": [
        "### 🧠 Define Utility Agents for Subject Generation and HTML Conversion\n"
      ],
      "metadata": {
        "id": "x00Zf0bJg-l5"
      }
    },
    {
      "cell_type": "code",
      "execution_count": null,
      "metadata": {
        "id": "EQxVH-QQ4Ugu"
      },
      "outputs": [],
      "source": [
        "subject_instructions = \"You can write a subject for a cold sales email. \\\n",
        "You are given a message and you need to write a subject for an email that is likely to get a response.\"\n",
        "\n",
        "html_instructions = \"You can convert a text email body to an HTML email body. \\\n",
        "You are given a text email body which might have some markdown \\\n",
        "and you need to convert it to an HTML email body with simple, clear, compelling layout and design.\"\n",
        "\n",
        "subject_writer = Agent(name=\"Email subject writer\", instructions=subject_instructions, model=\"gpt-4o-mini\")\n",
        "subject_tool = subject_writer.as_tool(tool_name=\"subject_writer\", tool_description=\"Write a subject for a cold sales email\")\n",
        "\n",
        "html_converter = Agent(name=\"HTML email body converter\", instructions=html_instructions, model=\"gpt-4o-mini\")\n",
        "html_tool = html_converter.as_tool(tool_name=\"html_converter\",tool_description=\"Convert a text email body to an HTML email body\")"
      ]
    },
    {
      "cell_type": "markdown",
      "source": [
        "### 🧰 Group Email-Related Tools for Use by the Email Manager Agent\n"
      ],
      "metadata": {
        "id": "k7u_TxJghE9v"
      }
    },
    {
      "cell_type": "code",
      "execution_count": null,
      "metadata": {
        "id": "a0ju-5Yx4Ugu"
      },
      "outputs": [],
      "source": [
        "email_tools = [subject_tool, html_tool, send_html_email]"
      ]
    },
    {
      "cell_type": "markdown",
      "source": [
        "### 📬 Define the Email Manager Agent to Format, Convert, and Send Emails\n",
        "\n",
        "This agent orchestrates a multi-step email pipeline: generating a subject, converting the body to HTML, and sending the final email using available tools. It serves as the final handoff agent in the sales email workflow.\n"
      ],
      "metadata": {
        "id": "0TgFBkNkhJQq"
      }
    },
    {
      "cell_type": "code",
      "execution_count": null,
      "metadata": {
        "id": "OfO8wue14Ugu"
      },
      "outputs": [],
      "source": [
        "instructions =\"You are an email formatter and sender. You receive the body of an email to be sent. \\\n",
        "You first use the subject_writer tool to write a subject for the email, then use the html_converter tool to convert the body to HTML. \\\n",
        "Finally, you use the send_html_email tool to send the email with the subject and HTML body.\"\n",
        "\n",
        "\n",
        "emailer_agent = Agent(\n",
        "    name=\"Email Manager\",\n",
        "    instructions=instructions,\n",
        "    tools=email_tools,\n",
        "    model=\"gpt-4o-mini\",\n",
        "    handoff_description=\"Convert an email to HTML and send it\")"
      ]
    },
    {
      "cell_type": "markdown",
      "source": [
        "### 🔗 Register Available Tools and Handoff Agents for the Sales Manager\n"
      ],
      "metadata": {
        "id": "KEBL3sOAhPzH"
      }
    },
    {
      "cell_type": "code",
      "execution_count": null,
      "metadata": {
        "id": "KXwDE10h4Ugu"
      },
      "outputs": [],
      "source": [
        "tools = [tool1, tool2, tool3]\n",
        "handoffs = [emailer_agent]"
      ]
    },
    {
      "cell_type": "markdown",
      "source": [
        "### 🧑‍💼 Define the Sales Manager Agent to Orchestrate Multi-Agent Email Generation\n",
        "\n",
        "This agent acts as the decision-maker in the workflow. It evaluates responses from all three sales agents, selects the most effective email, and hands it off to the Email Manager for formatting and delivery. It never writes emails directly, ensuring tool-based generation only.\n"
      ],
      "metadata": {
        "id": "mRh2SmA2hUqh"
      }
    },
    {
      "cell_type": "code",
      "execution_count": null,
      "metadata": {
        "id": "XWXWc1wH4Ugu"
      },
      "outputs": [],
      "source": [
        "sales_manager_instructions = \"You are a sales manager working for ComplAI. You use the tools given to you to generate cold sales emails. \\\n",
        "You never generate sales emails yourself; you always use the tools. \\\n",
        "You try all 3 sales agent tools at least once before choosing the best one. \\\n",
        "You can use the tools multiple times if you're not satisfied with the results from the first try. \\\n",
        "You select the single best email using your own judgement of which email will be most effective. \\\n",
        "After picking the email, you handoff to the Email Manager agent to format and send the email.\"\n",
        "\n",
        "sales_manager = Agent(\n",
        "    name=\"Sales Manager\",\n",
        "    instructions=sales_manager_instructions,\n",
        "    tools=tools,\n",
        "    handoffs=handoffs,\n",
        "    model=\"gpt-4o-mini\")"
      ]
    },
    {
      "cell_type": "markdown",
      "source": [
        "### 🛡️ Define Input Guardrail to Detect Profanity in User Messages\n",
        "\n",
        "This guardrail uses a dedicated agent to detect offensive language in user input. If profanity is found, it triggers a tripwire and prevents the agent from continuing. The check returns a structured output containing a flag and the first offending word.\n"
      ],
      "metadata": {
        "id": "GrL1AFzchkrb"
      }
    },
    {
      "cell_type": "code",
      "execution_count": null,
      "metadata": {
        "id": "w-jgx4l54Ugv"
      },
      "outputs": [],
      "source": [
        "class ProfanityCheckOutput(BaseModel):\n",
        "    contains_profanity: bool\n",
        "    offending_word: str = \"\"\n",
        "\n",
        "profanity_agent = Agent(\n",
        "    name=\"Profanity Checker\",\n",
        "    instructions=\"Check if the user input contains profanity or offensive language. Return the first offending word if found.\",\n",
        "    output_type=ProfanityCheckOutput,\n",
        "    model=\"gpt-4o-mini\"\n",
        ")\n",
        "\n",
        "@input_guardrail\n",
        "async def guardrail_profanity(ctx, agent, message):\n",
        "    result = await Runner.run(profanity_agent, message, context=ctx.context)\n",
        "    return GuardrailFunctionOutput(\n",
        "        output_info={\"profanity_check\": result.final_output},\n",
        "        tripwire_triggered=result.final_output.contains_profanity\n",
        "    )\n"
      ]
    },
    {
      "cell_type": "markdown",
      "source": [
        "### 🎯 Define Output Guardrail to Enforce Tone Consistency in Emails\n",
        "\n",
        "This output guardrail uses a dedicated agent to validate whether the generated email aligns with the intended tone—professional, witty, or concise. If the tone is incorrect, it triggers a tripwire and returns feedback explaining the mismatch.\n"
      ],
      "metadata": {
        "id": "OnfcJPH9hrfD"
      }
    },
    {
      "cell_type": "code",
      "execution_count": null,
      "metadata": {
        "id": "bWD-4N634Ugv"
      },
      "outputs": [],
      "source": [
        "# Define output structure\n",
        "class ToneCheckOutput(BaseModel):\n",
        "    tone_matched: bool\n",
        "    feedback: str\n",
        "\n",
        "# Define the guardrail agent\n",
        "tone_checker_agent = Agent(\n",
        "    name=\"Tone Checker\",\n",
        "    instructions=\"Check if the output email matches the intended tone (professional, concise, or witty). \"\n",
        "                 \"If it doesn't, set tone_matched to false and explain why in the feedback.\",\n",
        "    output_type=ToneCheckOutput,\n",
        "    model=\"gpt-4o-mini\"\n",
        ")\n",
        "\n",
        "# Define the output guardrail function\n",
        "@output_guardrail\n",
        "async def check_email_tone(ctx, agent, output):\n",
        "    result = await Runner.run(tone_checker_agent, output.response, context=ctx.context)\n",
        "    return GuardrailFunctionOutput(\n",
        "        output_info={\"tone_check\": result.final_output},\n",
        "        tripwire_triggered=not result.final_output.tone_matched\n",
        "    )"
      ]
    },
    {
      "cell_type": "markdown",
      "source": [
        "### 🧑‍💼🛡️ Define a Guarded Sales Manager Agent with Input and Output Guardrails\n",
        "\n",
        "This version of the Sales Manager agent includes guardrails for both input and output:\n",
        "- **Input Guardrail**: Detects profanity in user messages.\n",
        "- **Output Guardrail**: Ensures the generated email matches the intended tone.\n",
        "\n",
        "It maintains the same tool orchestration logic but adds safety and quality control to the generation process.\n"
      ],
      "metadata": {
        "id": "b4mgFheXh0ub"
      }
    },
    {
      "cell_type": "code",
      "execution_count": null,
      "metadata": {
        "id": "PorSiWrl4Ugv"
      },
      "outputs": [],
      "source": [
        "careful_sales_manager = Agent(\n",
        "    name=\"Sales Manager\",\n",
        "    instructions=sales_manager_instructions,\n",
        "    tools=tools,\n",
        "    handoffs=[emailer_agent],\n",
        "    model=\"gpt-4o-mini\",\n",
        "    input_guardrails=[guardrail_profanity],\n",
        "    output_guardrails=[check_email_tone]\n",
        "    )"
      ]
    },
    {
      "cell_type": "markdown",
      "source": [
        "### 📨 Define Async Email Generation Function with Tracing\n",
        "\n",
        "This function runs the guarded Sales Manager agent on a given message and returns the final output. It also uses `trace()` to enable OpenAI trace logging for debugging and analysis of the agent workflow.\n"
      ],
      "metadata": {
        "id": "rZrmgfZPh68S"
      }
    },
    {
      "cell_type": "code",
      "execution_count": null,
      "metadata": {
        "id": "qyy4FRFS4Ugw"
      },
      "outputs": [],
      "source": [
        "async def generate_email(message: str) -> str:\n",
        "    with trace(\"Gradio SDR\"):\n",
        "        result = await Runner.run(careful_sales_manager, message)\n",
        "    return result.final_output  # or formatted string if structured output"
      ]
    },
    {
      "cell_type": "markdown",
      "source": [
        "### 🔁 Define Synchronous Wrapper to Run Email Agent from Gradio UI\n",
        "\n",
        "This function combines the user's message and recipient email into a single prompt, then synchronously runs the async agent pipeline using `asyncio.run()` so it can be used in the Gradio interface.\n"
      ],
      "metadata": {
        "id": "ZAzZNME6iBlE"
      }
    },
    {
      "cell_type": "code",
      "execution_count": null,
      "metadata": {
        "id": "A2awwZFp4Ugw"
      },
      "outputs": [],
      "source": [
        "def run_email_agent_sync(message: str, recipient_email: str) -> str:\n",
        "\n",
        "    # Combine message and recipient into a single structured prompt\n",
        "    full_message = f\"{message}\\n\\nSend this email to: {recipient_email}\"\n",
        "\n",
        "    # Call the async function and return result\n",
        "    return asyncio.run(generate_email(full_message))"
      ]
    },
    {
      "cell_type": "markdown",
      "source": [
        "### 🖥️ Build Gradio Interface for Multi-Agent Email Generation and Delivery\n",
        "\n",
        "This interactive UI allows users to provide email instructions and a recipient address. It triggers the full OpenAI Agents workflow and displays the result. The layout is built with `gr.Blocks()` for a clean, responsive structure.\n"
      ],
      "metadata": {
        "id": "He7KF7yWiI_A"
      }
    },
    {
      "cell_type": "code",
      "execution_count": null,
      "metadata": {
        "id": "wMmyK21T4Ugw"
      },
      "outputs": [],
      "source": [
        "with gr.Blocks(title=\"AI Sales Agent - OpenAI SDK Demo\") as demo:\n",
        "    gr.HTML(\"\"\"\n",
        "        <h1 style='text-align: center; font-size: 2.5em; font-weight: bold;'>\n",
        "            💼 Multi-Agent Sales Email Generator\n",
        "        </h1>\n",
        "    \"\"\")\n",
        "\n",
        "    with gr.Row():\n",
        "        message_input = gr.Textbox(\n",
        "            label=\"📝 Email Instructions\",\n",
        "            placeholder=\"e.g. Send a concise cold email to Dear CTO from Alice\",\n",
        "            lines=4\n",
        "        )\n",
        "        recipient_input = gr.Textbox(\n",
        "            label=\"✉️ Recipient Email\",\n",
        "            placeholder=\"e.g. ceo@example.com\"\n",
        "        )\n",
        "\n",
        "    generate_btn = gr.Button(\"🚀 Generate and Send Email\")\n",
        "\n",
        "    output_box = gr.Textbox(\n",
        "        label=\"✅ Result\",\n",
        "        lines=12,\n",
        "        interactive=False\n",
        "    )\n",
        "\n",
        "    generate_btn.click(fn=run_email_agent_sync, inputs=[message_input, recipient_input], outputs=output_box)\n",
        "\n",
        "demo.launch(debug=True)\n"
      ]
    },
    {
      "cell_type": "markdown",
      "metadata": {
        "id": "WD5x14UO4Ugu"
      },
      "source": [
        "## Check out the trace:\n",
        "\n",
        "https://platform.openai.com/traces"
      ]
    }
  ],
  "metadata": {
    "kernelspec": {
      "display_name": "Python 3",
      "name": "python3"
    },
    "language_info": {
      "codemirror_mode": {
        "name": "ipython",
        "version": 3
      },
      "file_extension": ".py",
      "mimetype": "text/x-python",
      "name": "python",
      "nbconvert_exporter": "python",
      "pygments_lexer": "ipython3",
      "version": "3.12.11"
    },
    "colab": {
      "provenance": []
    }
  },
  "nbformat": 4,
  "nbformat_minor": 0
}